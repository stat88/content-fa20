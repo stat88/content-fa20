{
 "cells": [
  {
   "cell_type": "markdown",
   "metadata": {},
   "source": [
    "# Homework 13 Part I #"
   ]
  },
  {
   "cell_type": "code",
   "execution_count": 11,
   "metadata": {
    "collapsed": true,
    "jupyter": {
     "outputs_hidden": true
    }
   },
   "outputs": [],
   "source": [
    "from datascience import *\n",
    "%matplotlib inline\n",
    "import matplotlib.pyplot as plt\n",
    "plt.style.use('fivethirtyeight')\n",
    "import numpy as np\n",
    "from scipy import stats"
   ]
  },
  {
   "cell_type": "markdown",
   "metadata": {},
   "source": [
    "This homework consists of four problems. In these two problems, you will establish facts stated in Data 8. Remember properties of the expectation and variance of a linear function of a random variable. In both problems, you have a random pair $(X, Y)$ and $\\hat{Y}$ is the best linear predictor of $Y$ based on $X$. Question 3 and 4 are in Homework 13 Part II. **You need to complete both parts and make one single submission consists of all four questions on Gradescope to receive full credit**"
   ]
  },
  {
   "cell_type": "markdown",
   "metadata": {},
   "source": [
    "## 1. The Average of the Residuals ##\n",
    "\n",
    "**a)** In Data 8 we say that the regression line passes through the point of averages. Show this by setting $X = \\mu_X$ and finding the corresponding value of $\\hat{Y}$.\n",
    "\n",
    "**b)** Find $E(\\hat{Y})$. In Data 8 language, this is the average of the fitted values.\n",
    "\n",
    "**c)** The difference $Y - \\hat{Y}$ is called a *residual*. It is the difference between the actual and fitted values of $Y$. Find the expectation of the residual and confirm that the answer justifies the following statement [from Data 8](https://www.inferentialthinking.com/chapters/15/6/Numerical_Diagnostics.html#Average-of-Residuals):\n",
    "\n",
    "\"No matter what the shape of the scatter diagram, the average of the residuals is 0.\""
   ]
  },
  {
   "cell_type": "markdown",
   "metadata": {},
   "source": [
    "## 2. An Interpretation of $r$ ##\n",
    "\n",
    "**a)** Find $Var(\\hat{Y})$.\n",
    "\n",
    "**b)** Show that the answer to Part **a** justifies the following statement [from Data 8](https://www.inferentialthinking.com/chapters/15/6/Numerical_Diagnostics.html#Another-Way-to-Interpret-$r$):\n",
    "\n",
    "$$\n",
    "\\frac{\\text{SD of fitted values}}{\\text{SD of y}} ~ = ~ \\vert r \\vert\n",
    "$$\n",
    "\n",
    "Note: Usually, the result above is stated in terms of variances instead of SDs, and hence $r^2$ is sometimes called \"the proportion of variability explained by the linear model\"."
   ]
  },
  {
   "cell_type": "markdown",
   "metadata": {},
   "source": [
    "## Submission Instructions     \n",
    "Please follow the directions below to properly submit your homework.\n",
    "\n",
    "*  Scan all pages of **your work** into a PDF. You can use any scanner or a phone. Please **DO NOT** simply take pictures using your phone. \n",
    "* Please start a new page for each question. If you have already written multiple questions on the same page, you can crop the image or fold your page over (the old-fashioned way). This helps expedite grading.\n",
    "* It is your responsibility to check that all the work on all the scanned pages is legible.\n",
    "\n",
    "\n",
    "### Submitting\n",
    "* Submit the assignment to Homework 13 on Gradescope. \n",
    "* **Make sure to assign each page of your pdf to the correct question.**\n"
   ]
  },
  {
   "cell_type": "code",
   "execution_count": null,
   "metadata": {
    "collapsed": true,
    "jupyter": {
     "outputs_hidden": true
    }
   },
   "outputs": [],
   "source": []
  }
 ],
 "metadata": {
  "kernelspec": {
   "display_name": "Python 3",
   "language": "python",
   "name": "python3"
  },
  "language_info": {
   "codemirror_mode": {
    "name": "ipython",
    "version": 3
   },
   "file_extension": ".py",
   "mimetype": "text/x-python",
   "name": "python",
   "nbconvert_exporter": "python",
   "pygments_lexer": "ipython3",
   "version": "3.7.4"
  }
 },
 "nbformat": 4,
 "nbformat_minor": 4
}
